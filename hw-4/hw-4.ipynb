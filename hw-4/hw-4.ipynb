{
 "cells": [
  {
   "cell_type": "markdown",
   "metadata": {},
   "source": [
    "## Basic ML Homework\n",
    "### Модуль 4: Теоретический минимум для ML: линейная алгебра, начала мат.анализа"
   ]
  },
  {
   "cell_type": "markdown",
   "metadata": {},
   "source": [
    "## 1. Линейная алгебра"
   ]
  },
  {
   "cell_type": "markdown",
   "metadata": {},
   "source": [
    "1.1 Даны матрицы $A = \\begin{pmatrix}\n",
    "2 & −4 \\\\\n",
    "3 & 5 \\\\\n",
    "−1 & 0 \n",
    "\\end{pmatrix},\n",
    "$\n",
    "$B = \\begin{pmatrix}1 & 2 & 7 \\\\ −3 & −4 & 0 \\\\ 5 & 2 & 1 \\end{pmatrix}$, $C = \\begin{pmatrix}\n",
    "6 & −3 & 9 \\\\\n",
    "4 & −5 & 2 \\\\\n",
    "8 & 1 & 5\n",
    "\\end{pmatrix}.$\n",
    "\n",
    "Посчитайте матрицу $D = A^{\\top}C - 2A^{\\top}B^{\\top}$. Приведите полную последовательность вычислений."
   ]
  },
  {
   "cell_type": "markdown",
   "metadata": {},
   "source": [
    "$A^{\\top} = \\begin{pmatrix} 2 & 3 & -1 \\\\ −4 & 5 & 0 \\end{pmatrix}\n",
    "$\n",
    "$B^{\\top} = \\begin{pmatrix}1 & -3 & 5 \\\\ 2 & −4 & 2 \\\\ 7 & 0 & 1 \\end{pmatrix}$\n",
    "\n",
    "Подставляем:\n",
    "$D = \\begin{pmatrix} 2 & 3 & -1 \\\\ −4 & 5 & 0 \\end{pmatrix} * \\begin{pmatrix} 6 & −3 & 9 \\\\ 4 & −5 & 2 \\\\ 8 & 1 & 5 \\end{pmatrix} - 2 \\begin{pmatrix} 2 & 3 & -1 \\\\ −4 & 5 & 0 \\end{pmatrix} * \\begin{pmatrix}1 & -3 & 5 \\\\ 2 & −4 & 2 \\\\ 7 & 0 & 1 \\end{pmatrix} = \\begin{pmatrix} 12 + 12 - 8  & -6-15-1 & 18 + 6 - 5 \\\\ −24+20 & 12-25 & -36+10 \\end{pmatrix} - 2 * \\begin{pmatrix} 2+6-7 & -6-12 & 10+6-1 \\\\ -4+10 & 12-20 & -20+10 \\end{pmatrix} = \\begin{pmatrix} 16 & -22 & 19 \\\\ −4 & -13 & -26 \\end{pmatrix} - 2 * \\begin{pmatrix} 1 & -18 & 15 \\\\ 6 & -8 & -10 \\end{pmatrix} =  \\begin{pmatrix} 14 & 14 & -11 \\\\ -16 & 3 & -6 \\end{pmatrix}$"
   ]
  },
  {
   "cell_type": "code",
   "execution_count": 2,
   "metadata": {},
   "outputs": [],
   "source": [
    "import numpy as np"
   ]
  },
  {
   "cell_type": "code",
   "execution_count": 3,
   "metadata": {},
   "outputs": [
    {
     "data": {
      "text/plain": [
       "(3, 2)"
      ]
     },
     "execution_count": 3,
     "metadata": {},
     "output_type": "execute_result"
    }
   ],
   "source": [
    "A = np.array([[2,-4],[3,5],[-1,0]])\n",
    "A\n",
    "A.shape"
   ]
  },
  {
   "cell_type": "code",
   "execution_count": 4,
   "metadata": {},
   "outputs": [
    {
     "data": {
      "text/plain": [
       "array([[ 1,  2,  7],\n",
       "       [-3, -4,  0],\n",
       "       [ 5,  2,  1]])"
      ]
     },
     "execution_count": 4,
     "metadata": {},
     "output_type": "execute_result"
    }
   ],
   "source": [
    "B = np.array([[1,2,7],[-3,-4,0], [5,2,1]])\n",
    "B"
   ]
  },
  {
   "cell_type": "code",
   "execution_count": 5,
   "metadata": {},
   "outputs": [
    {
     "data": {
      "text/plain": [
       "array([[ 6, -3,  9],\n",
       "       [ 4, -5,  2],\n",
       "       [ 8,  1,  5]])"
      ]
     },
     "execution_count": 5,
     "metadata": {},
     "output_type": "execute_result"
    }
   ],
   "source": [
    "C = np.array([[6,-3,9],[4,-5,2], [8,1,5]])\n",
    "C"
   ]
  },
  {
   "cell_type": "code",
   "execution_count": 6,
   "metadata": {},
   "outputs": [
    {
     "data": {
      "text/plain": [
       "array([[ 2,  3, -1],\n",
       "       [-4,  5,  0]])"
      ]
     },
     "execution_count": 6,
     "metadata": {},
     "output_type": "execute_result"
    }
   ],
   "source": [
    "𝐴.T"
   ]
  },
  {
   "cell_type": "code",
   "execution_count": 7,
   "metadata": {},
   "outputs": [
    {
     "data": {
      "text/plain": [
       "array([[ 1, -3,  5],\n",
       "       [ 2, -4,  2],\n",
       "       [ 7,  0,  1]])"
      ]
     },
     "execution_count": 7,
     "metadata": {},
     "output_type": "execute_result"
    }
   ],
   "source": [
    "B.T"
   ]
  },
  {
   "cell_type": "code",
   "execution_count": 8,
   "metadata": {},
   "outputs": [
    {
     "data": {
      "text/plain": [
       "array([[ 14,  14, -11],\n",
       "       [-16,   3,  -6]])"
      ]
     },
     "execution_count": 8,
     "metadata": {},
     "output_type": "execute_result"
    }
   ],
   "source": [
    "D = 𝐴.T.dot(C) - 2 * 𝐴.T.dot(B.T)\n",
    "D"
   ]
  },
  {
   "cell_type": "code",
   "execution_count": 19,
   "metadata": {},
   "outputs": [
    {
     "data": {
      "text/plain": [
       "array([[ 16, -22,  19],\n",
       "       [ -4, -13, -26]])"
      ]
     },
     "execution_count": 19,
     "metadata": {},
     "output_type": "execute_result"
    }
   ],
   "source": [
    "𝐴.T.dot(C)"
   ]
  },
  {
   "cell_type": "code",
   "execution_count": null,
   "metadata": {},
   "outputs": [],
   "source": []
  },
  {
   "cell_type": "markdown",
   "metadata": {},
   "source": [
    "1.2 Дано:\n",
    "\n",
    "$ 3 \\cdot \\begin{pmatrix} x & 2 & 3 \\\\ −1 & y & 4 \\end{pmatrix} +\n",
    "2 \\cdot \\begin{pmatrix} 1 & 2 & −5 \\\\ 2 & −6 & z \\end{pmatrix} =\n",
    "\\begin{pmatrix}\n",
    "8 & v & −1 \\\\\n",
    "1 & 6 & 4 \\end{pmatrix}. $\n",
    "\n",
    "Найдите значения $x$, $y$, $z$, и $v$."
   ]
  },
  {
   "cell_type": "markdown",
   "metadata": {},
   "source": [
    "$3*x + 2 = 8\n",
    "$\n",
    "\n",
    "$x = 2\n",
    "$\n",
    "\n",
    "$3*y - 12 = 6\n",
    "$\n",
    "\n",
    "$y = 6\n",
    "$\n",
    "\n",
    "$12 + 2*z = 4\n",
    "$\n",
    "\n",
    "$z = -4\n",
    "$\n",
    "\n",
    "$6 + 4 = v\n",
    "$\n",
    "\n",
    "$v = 10\n",
    "$"
   ]
  },
  {
   "cell_type": "code",
   "execution_count": null,
   "metadata": {},
   "outputs": [],
   "source": []
  },
  {
   "cell_type": "markdown",
   "metadata": {},
   "source": [
    "1.3 На множестве $\\mathbf{M}$ всех упорядоченных пар $(u; v)$ положительных чисел операции сложения и умножения введены\n",
    "следующим образом:\n",
    "\n",
    "$$\n",
    "(u_1; v_1) + (u_2; v_2) = (u_1 \\cdot u_2; v_1 \\cdot v_2); \n",
    "λ(u; v) = (u^{\\lambda}; v^{\\lambda}),\n",
    "$$\n",
    "\n",
    "где $\\lambda$ – вещественное число. Докажите, что при этом множество $\\mathbf{M}$ становится линейным пространством. Выясните: а) какая пара играет роль нулевого элемента; б) какая пара является противоположной паре $(u; v)$; в) укажите размерность этого пространства и какой-нибудь его базис."
   ]
  },
  {
   "cell_type": "markdown",
   "metadata": {},
   "source": [
    "Для того чтобы показать, что множество 𝑀 является линейным пространством, необходимо проверить выполнение всех аксиом \n",
    "линейного пространства:\n",
    "\n",
    "Аксиома коммутативности сложения:\\\n",
    "$\n",
    "(u_1; v_1) + (u_2; v_2) = (u_1 \\cdot u_2; v_1 \\cdot v_2) = (u_2 \\cdot u_1; v_2 \\cdot v_1) = (u_2; v_2) + (u_1; v_1)\n",
    "$\\\n",
    "Аксиома ассоциативности сложения:\\\n",
    "$\n",
    "(u_1; v_1) + (u_2; v_2) + (u_3; v_3) = (u_1 \\cdot u_2; v_1 \\cdot v_2) + (u_3; v_3) = \n",
    "(u_1 \\cdot u_2 \\cdot u_3; v_1 \\cdot v_2 \\cdot v_3)  = (u_1; v_1) + (u_2 \\cdot u_3; v_2 \\cdot v_3)\n",
    "$\\\n",
    "Аксиома существования нулевого элемента:\\\n",
    "нулевой элемент – это (1;1), так как (1;1) + (𝑢;𝑣) = (1⋅𝑢;1⋅𝑣) = (𝑢;𝑣) \\ и \\ (𝑢;𝑣) + (1;1) = (1⋅𝑢;1⋅𝑣) = (𝑢;𝑣).\\\n",
    "Аксиома существования противоположного элемента:\\\n",
    "противоположным элементом для (𝑢;𝑣) является (1/𝑢;1/𝑣), так как $(𝑢;𝑣) + (1/𝑢;1/𝑣) = (𝑢⋅1/𝑢;𝑣⋅1/𝑣) = \n",
    "(1;1) \\ и \\ (1/𝑢;1/𝑣) + (𝑢;𝑣) = (1;1).$\\\n",
    "Аксиома дистрибутивности умножения на скаляр: \\\n",
    "$𝜆(u_1; v_1) = (𝑢_1𝜆;𝑣_1𝜆) \\ и \\ (𝜆+𝜇)(𝑢_1;𝑣_1) = ((𝜆+𝜇)𝑢_1;(𝜆+𝜇)𝑣_1)$\\\n",
    "Аксиома дистрибутивности умножения на скаляр: \\\n",
    "$(𝜆𝜇)(𝑢;𝑣) = ((𝜆𝜇)𝑢;(𝜆𝜇)𝑣) \\ и \\ 𝜆((𝑢_1;𝑣_1) + (𝑢_2;𝑣_2)) = 𝜆(𝑢_1;𝑣_1) + 𝜆(𝑢_2;𝑣_2)$\\\n",
    "Таким образом, все аксиомы линейного пространства выполняются, следовательно, множество 𝑀 является линейным пространством.\n",
    "\n",
    "а) Нулевым элементом является (1;1), так как (1;1) + (𝑢;𝑣) = (1⋅𝑢;1⋅𝑣) = (𝑢;𝑣) и (𝑢;𝑣) + (1;1) = (1⋅𝑢;1⋅𝑣) = (𝑢;𝑣).\n",
    "\n",
    "б) Противоположной парой для (𝑢;𝑣) является (1/𝑢;1/𝑣), так как (𝑢;𝑣) + (1/𝑢;1/𝑣) = (𝑢⋅1/𝑢;𝑣⋅1/𝑣) = (1;1) \n",
    "и (1/𝑢;1/𝑣) + (𝑢;𝑣) = (1;1).\n",
    "\n",
    "в) Размерность этого пространства равна 2, так как для любой упорядоченной пары (𝑢;𝑣) существует единственная линейная \n",
    "комбинация вида 𝜆(1;0) + 𝜇(0;1), где 𝜆 = 𝑢, 𝜇 = 𝑣. \n",
    "Размерность линейного пространства 𝑀 равна 2, так как любой вектор в 𝑀 можно представить в виде линейной комбинации пары векторов (1;0) и (0;1). Для этого нужно показать, что они линейно независимы и что любой вектор из 𝑀 можно представить в виде линейной комбинации этих векторов.\n",
    "Линейная независимость: если 𝑎(1;0)+𝑏(0;1)=(0;0), то 𝑎=𝑏=0.\\\n",
    "Например:\\\n",
    "$e_1=(1,2)\\ и \\ e_2=(2,1)$ - базисные векторы \\\n",
    "Любой вектор $(𝑢;𝑣) = 𝜆_1(1;2) + 𝜆_2(2;1)$\\\n",
    "Пусть $𝜆_1=log_2{u}, 𝜆_2=log_2{v}$\\\n",
    "Следовательно, $(𝑢;𝑣)=log_2{u}{(1,2)}+ log_2{v}(2,1)=(1^{log_2{u}},2^{log_2{u}})+(2^{log_2{v}},1^{log_2{v}})=(1,u)+(v,1)=(u,v)$\\\n",
    "Т.о. размерность пространства М=2, посколько $e_1 \\ и \\ e_2$ - линейно независимые, а любой другой вариант линейно выражается через $e_1 \\ и \\ e_2$."
   ]
  },
  {
   "cell_type": "code",
   "execution_count": null,
   "metadata": {},
   "outputs": [],
   "source": []
  },
  {
   "cell_type": "markdown",
   "metadata": {},
   "source": [
    "1.4 Докажите, что множество всех квадратных матриц второго порядка с известными операциями сложения и умножения на число образуют четырехмерное линейное пространство. Укажите какой-нибудь базис этого пространства."
   ]
  },
  {
   "cell_type": "markdown",
   "metadata": {},
   "source": [
    "Для того, чтобы доказать, что множество всех квадратных матриц второго порядка с операциями сложения и умножения на число образует четырехмерное линейное пространство, необходимо проверить выполнение следующих условий:\\\n",
    "Ассоциативность сложения: для любых матриц A, B и C размерности 2x2, выполняется равенство (A + B) + C = A + (B + C).\\\n",
    "Коммутативность сложения: для любых матриц A и B размерности 2x2, выполняется равенство A + B = B + A.\\\n",
    "Существование нулевого элемента: существует матрица O размерности 2x2, такая что A + O = A для любой матрицы A.\\\n",
    "Существование обратного элемента: для каждой матрицы A существует матрица B такая, что A + B = O, где O - нулевая матрица размерности 2x2.\\\n",
    "Ассоциативность умножения на число: для любых чисел a и b, и для любой матрицы A размерности 2x2, выполняется равенство a(bA) = (ab)A.\\\n",
    "Дистрибутивность умножения на число относительно сложения матриц: для любых чисел a и b, и для любых матриц A и B размерности 2x2, выполняется равенство a(A + B) = aA + aB и (a + b)A = aA + bA.\\\n",
    "Существование единичного элемента: существует матрица E размерности 2x2, такая что EA = A для любой матрицы A.\\\n",
    "Ассоциативность умножения матриц: для любых матриц A, B и C размерности 2x2, выполняется равенство A(BC) = (AB)C.\\\n",
    "Дистрибутивность умножения матриц относительно сложения матриц: для любых матриц A, B и C размерности 2x2, выполняется равенство A(B + C) = AB + AC и (A + B)C = AC + BC.\n",
    "\n",
    "Все эти условия выполняются для множества всех квадратных матриц второго порядка, следовательно, это множество образует линейное пространство. \n",
    "\n",
    "Чтобы найти базис этого пространства, можно взять четыре линейно независимые матрицы размерности 2x2. Например:\n",
    "\n",
    "Матрица E = [1 0; 0 1] - единичная матрица.\\\n",
    "Матрица A = [1 0; 0 0].\\\n",
    "Матрица B = [0 1; 0 0].\\\n",
    "Матрица C = [0 0; 1 0].\\\n",
    "Эти матрицы линейно независимы, так как ни одна из них не может быть выражена как линейная комбинация других. Кроме того, любая матрица размерности 2x2 может быть выражена как линейная комбинация этих четырех матриц.\n",
    "\n",
    "Таким образом, {E, A, B, C} является базисом пространства всех квадратных матриц второго порядка"
   ]
  },
  {
   "cell_type": "code",
   "execution_count": 41,
   "metadata": {},
   "outputs": [
    {
     "data": {
      "text/plain": [
       "array([[1, 0],\n",
       "       [0, 1]])"
      ]
     },
     "execution_count": 41,
     "metadata": {},
     "output_type": "execute_result"
    }
   ],
   "source": [
    "E = np.array([[1,0],[0,1]])\n",
    "E "
   ]
  },
  {
   "cell_type": "code",
   "execution_count": 42,
   "metadata": {},
   "outputs": [
    {
     "data": {
      "text/plain": [
       "array([[1, 0],\n",
       "       [0, 0]])"
      ]
     },
     "execution_count": 42,
     "metadata": {},
     "output_type": "execute_result"
    }
   ],
   "source": [
    "A = np.array([[1,0],[0,0]])\n",
    "A "
   ]
  },
  {
   "cell_type": "code",
   "execution_count": 43,
   "metadata": {},
   "outputs": [
    {
     "data": {
      "text/plain": [
       "array([[0, 1],\n",
       "       [0, 0]])"
      ]
     },
     "execution_count": 43,
     "metadata": {},
     "output_type": "execute_result"
    }
   ],
   "source": [
    "B = np.array([[0,1],[0,0]])\n",
    "B "
   ]
  },
  {
   "cell_type": "code",
   "execution_count": 44,
   "metadata": {},
   "outputs": [
    {
     "data": {
      "text/plain": [
       "array([[0, 0],\n",
       "       [1, 0]])"
      ]
     },
     "execution_count": 44,
     "metadata": {},
     "output_type": "execute_result"
    }
   ],
   "source": [
    "C = np.array([[0,0],[1,0]])\n",
    "C "
   ]
  },
  {
   "cell_type": "code",
   "execution_count": 46,
   "metadata": {},
   "outputs": [
    {
     "data": {
      "text/plain": [
       "array([[ True,  True],\n",
       "       [ True,  True]])"
      ]
     },
     "execution_count": 46,
     "metadata": {},
     "output_type": "execute_result"
    }
   ],
   "source": [
    "(A + B) + C == A + (B + C)"
   ]
  },
  {
   "cell_type": "code",
   "execution_count": 47,
   "metadata": {},
   "outputs": [
    {
     "data": {
      "text/plain": [
       "array([[ True,  True],\n",
       "       [ True,  True]])"
      ]
     },
     "execution_count": 47,
     "metadata": {},
     "output_type": "execute_result"
    }
   ],
   "source": [
    "A + B == B + A"
   ]
  },
  {
   "cell_type": "code",
   "execution_count": 48,
   "metadata": {},
   "outputs": [
    {
     "data": {
      "text/plain": [
       "array([[ True,  True],\n",
       "       [ True,  True]])"
      ]
     },
     "execution_count": 48,
     "metadata": {},
     "output_type": "execute_result"
    }
   ],
   "source": [
    "A + 0 == A"
   ]
  },
  {
   "cell_type": "code",
   "execution_count": 50,
   "metadata": {},
   "outputs": [
    {
     "data": {
      "text/plain": [
       "array([[ True,  True],\n",
       "       [ True,  True]])"
      ]
     },
     "execution_count": 50,
     "metadata": {},
     "output_type": "execute_result"
    }
   ],
   "source": [
    "a = 2\n",
    "b = 3\n",
    "a*(b*A) == (a*b)*A"
   ]
  },
  {
   "cell_type": "code",
   "execution_count": 51,
   "metadata": {},
   "outputs": [
    {
     "data": {
      "text/plain": [
       "array([[ True,  True],\n",
       "       [ True,  True]])"
      ]
     },
     "execution_count": 51,
     "metadata": {},
     "output_type": "execute_result"
    }
   ],
   "source": [
    "a*(A + B) == a*A + a*B"
   ]
  },
  {
   "cell_type": "code",
   "execution_count": null,
   "metadata": {},
   "outputs": [],
   "source": [
    " (a + b)*A == a*A + b*A"
   ]
  },
  {
   "cell_type": "code",
   "execution_count": 52,
   "metadata": {},
   "outputs": [
    {
     "data": {
      "text/plain": [
       "array([[ True,  True],\n",
       "       [ True,  True]])"
      ]
     },
     "execution_count": 52,
     "metadata": {},
     "output_type": "execute_result"
    }
   ],
   "source": [
    "E*A == A"
   ]
  },
  {
   "cell_type": "code",
   "execution_count": 54,
   "metadata": {},
   "outputs": [
    {
     "data": {
      "text/plain": [
       "array([[ True,  True],\n",
       "       [ True,  True]])"
      ]
     },
     "execution_count": 54,
     "metadata": {},
     "output_type": "execute_result"
    }
   ],
   "source": [
    "A*(B*C) == (A*B)*C"
   ]
  },
  {
   "cell_type": "code",
   "execution_count": 56,
   "metadata": {},
   "outputs": [
    {
     "data": {
      "text/plain": [
       "array([[ True,  True],\n",
       "       [ True,  True]])"
      ]
     },
     "execution_count": 56,
     "metadata": {},
     "output_type": "execute_result"
    }
   ],
   "source": [
    "A*(B + C) == A*B + A*C"
   ]
  },
  {
   "cell_type": "code",
   "execution_count": 55,
   "metadata": {},
   "outputs": [
    {
     "data": {
      "text/plain": [
       "array([[ True,  True],\n",
       "       [ True,  True]])"
      ]
     },
     "execution_count": 55,
     "metadata": {},
     "output_type": "execute_result"
    }
   ],
   "source": [
    "(A + B)*C == A*C + B*C"
   ]
  },
  {
   "cell_type": "markdown",
   "metadata": {},
   "source": [
    "1.5 Укажите те значения параметров $p$ и $q$, при которых\n",
    "ранг матрицы $A = \\begin{pmatrix} 1 & 2 & 3 \\\\ 3 & 6 & p \\\\ 5 & 10 & q \\end{pmatrix}$ равен единице."
   ]
  },
  {
   "cell_type": "markdown",
   "metadata": {},
   "source": [
    "$2*p - 3*6 = 0\n",
    "$\n",
    "\n",
    "$p = 9\n",
    "$\n",
    "\n",
    "$6*q - 10*p = 0\n",
    "$\n",
    "\n",
    "$q = 15\n",
    "$\n",
    "\n",
    "Ранг $1$"
   ]
  },
  {
   "cell_type": "markdown",
   "metadata": {},
   "source": [
    "1.6 Относительно канонического базиса в $\\mathbb{R}^2$ даны три вектора $f_1 = (2, −5)$, $f_2 = (−1, 3)$, $x = (1, −4)$. Докажите, что векторы $f_1$ и $f_2$ можно принять за новый базис, и найдите координаты вектора $x$ в этом базисе"
   ]
  },
  {
   "cell_type": "markdown",
   "metadata": {},
   "source": [
    "$F^{-1}= 1/detF * (F^*)^{\\top}$\n",
    "\n",
    "$f_1$ и $f_2$ линейно независимые, следовательно, могут быть приняты в качестве базиса пространства $\\mathbb{R}^2$\n",
    "\n",
    "$F = \\begin{pmatrix} 2 & -1 \\\\ -5 & 3 \\end{pmatrix}$\n",
    "\n",
    "$detF = 2*3 - (-1) *(-5) = 1\n",
    "$\n",
    "\n",
    "$F11= (-1)^2 * 3 = 3$ \\\n",
    "$F12= (-1)^3 * (-1) = 1$\\\n",
    "$F21= (-1)^3 * (-5) = 5$\\\n",
    "$F22= (-1)^4 * 2 = 2$ \\\n",
    "$F^* = \\begin{pmatrix} 3 & 1 \\\\ 5 & 2 \\end{pmatrix}$\n",
    "\n",
    "Подставляем:\n",
    "\n",
    "$F = 1/1 * \\begin{pmatrix} 3 & 1 \\\\ 5 & 2 \\end{pmatrix}^{\\top} = \\begin{pmatrix} 3 & 5 \\\\ 1 & 2 \\end{pmatrix}$\n",
    "\n",
    "Находим координаты вектора $x = (1, −4)$ относительно нового базиса:\n",
    "\n",
    "$x_{new} = \\begin{pmatrix} 1 & -4 \\end{pmatrix} * \\begin{pmatrix} 3 & 5 \\\\ 1 & 2 \\end{pmatrix} = \\begin{pmatrix} -1 & -3 \\end{pmatrix}$"
   ]
  },
  {
   "cell_type": "code",
   "execution_count": 26,
   "metadata": {},
   "outputs": [
    {
     "data": {
      "text/plain": [
       "array([[ 2, -1],\n",
       "       [-5,  3]])"
      ]
     },
     "execution_count": 26,
     "metadata": {},
     "output_type": "execute_result"
    }
   ],
   "source": [
    "F = np.array([[2,-1],[-5,3]])\n",
    "F"
   ]
  },
  {
   "cell_type": "code",
   "execution_count": 27,
   "metadata": {},
   "outputs": [
    {
     "data": {
      "text/plain": [
       "1.0000000000000002"
      ]
     },
     "execution_count": 27,
     "metadata": {},
     "output_type": "execute_result"
    }
   ],
   "source": [
    "det = np.linalg.det(F)\n",
    "det"
   ]
  },
  {
   "cell_type": "code",
   "execution_count": 33,
   "metadata": {},
   "outputs": [
    {
     "data": {
      "text/plain": [
       "array([[3, 5],\n",
       "       [1, 2]])"
      ]
     },
     "execution_count": 33,
     "metadata": {},
     "output_type": "execute_result"
    }
   ],
   "source": [
    "F1 = np.array([[3,5],[1,2]])\n",
    "F1"
   ]
  },
  {
   "cell_type": "code",
   "execution_count": 34,
   "metadata": {},
   "outputs": [
    {
     "data": {
      "text/plain": [
       "array([ 1, -4])"
      ]
     },
     "execution_count": 34,
     "metadata": {},
     "output_type": "execute_result"
    }
   ],
   "source": [
    "x = np.array([1,-4])\n",
    "x"
   ]
  },
  {
   "cell_type": "code",
   "execution_count": 35,
   "metadata": {},
   "outputs": [
    {
     "data": {
      "text/plain": [
       "array([-1, -3])"
      ]
     },
     "execution_count": 35,
     "metadata": {},
     "output_type": "execute_result"
    }
   ],
   "source": [
    "X = F1.T.dot(x) \n",
    "X"
   ]
  },
  {
   "cell_type": "markdown",
   "metadata": {},
   "source": [
    "1.7 Предположим, что существует линейный оператор, выраженный в базисе $(e_1, e_2)$ в виде матрицы $A = \\begin{pmatrix} 1 & 0 \\\\ 0 & 2 \\end{pmatrix}$. Найдите матрицу данного оператора в базисе из векторов $(\\tilde{e}_1, \\tilde{e}_2)$, если:\n",
    "\n",
    "$$\n",
    "\\begin{cases}\n",
    "\\tilde{e}_1 = -2e_1 + 5e_2 \\\\\n",
    "\\tilde{e}_2 = -e_1 + 2e_2\n",
    "\\end{cases}.\n",
    "$$"
   ]
  },
  {
   "cell_type": "markdown",
   "metadata": {},
   "source": [
    "$A_{new}=E^{-1}*A*E$\n",
    "\n",
    "$E^{-1}= 1/detE * (E^*)^{\\top}$\n",
    "\n",
    "$E = \\begin{pmatrix} -2 & -1 \\\\ 5 & 2 \\end{pmatrix}$\n",
    "\n",
    "$detE = -4+5 = 1\n",
    "$\n",
    "\n",
    "$E11= (-1)^2 * 2 = 2$ \\\n",
    "$E12= (-1)^3 * 5 = -5$\\\n",
    "$E21= (-1)^3 * (-1) = 1$\\\n",
    "$E22= (-1)^4 * (-2) = -2$ \\\n",
    "$E^* = \\begin{pmatrix} 2 & -5 \\\\ 1 & -2 \\end{pmatrix}$\\\n",
    "Подставляем:\\\n",
    "$A_{new}=1/1*{\\begin{pmatrix} 2 & -5 \\\\ 1 & -2 \\end{pmatrix}}^{\\top}*\\begin{pmatrix} 1 & 0 \\\\ 0 & 2 \\end{pmatrix}*\\begin{pmatrix} -2 & -1 \\\\ 5 & 2 \\end{pmatrix} ={\\begin{pmatrix} 2 & 1 \\\\ -5 & -2 \\end{pmatrix}}*\\begin{pmatrix} 1 & 0 \\\\ 0 & 2 \\end{pmatrix}*\\begin{pmatrix} -2 & -1 \\\\ 5 & 2 \\end{pmatrix} = \\begin{pmatrix} 2 & 2 \\\\ -5 & -4\\end{pmatrix}*\\begin{pmatrix} -2 & -1 \\\\ 5 & 2 \\end{pmatrix}=\\begin{pmatrix} -4+10 & -2+4 \\\\ 10-20 & 5-8\\end{pmatrix} =\\begin{pmatrix} 6 & 2 \\\\ -10 & -3 \\end{pmatrix}$"
   ]
  },
  {
   "cell_type": "code",
   "execution_count": 3,
   "metadata": {},
   "outputs": [
    {
     "data": {
      "text/plain": [
       "array([[-2, -1],\n",
       "       [ 5,  2]])"
      ]
     },
     "execution_count": 3,
     "metadata": {},
     "output_type": "execute_result"
    }
   ],
   "source": [
    "E = np.array([[-2,-1],[5,2]])\n",
    "E"
   ]
  },
  {
   "cell_type": "code",
   "execution_count": 4,
   "metadata": {},
   "outputs": [
    {
     "data": {
      "text/plain": [
       "0.9999999999999998"
      ]
     },
     "execution_count": 4,
     "metadata": {},
     "output_type": "execute_result"
    }
   ],
   "source": [
    "det = np.linalg.det(E)\n",
    "det"
   ]
  },
  {
   "cell_type": "code",
   "execution_count": 5,
   "metadata": {},
   "outputs": [
    {
     "data": {
      "text/plain": [
       "array([[ 2, -5],\n",
       "       [ 1, -2]])"
      ]
     },
     "execution_count": 5,
     "metadata": {},
     "output_type": "execute_result"
    }
   ],
   "source": [
    "E1 = np.array([[2,-5],[1,-2]])\n",
    "E1"
   ]
  },
  {
   "cell_type": "code",
   "execution_count": 6,
   "metadata": {},
   "outputs": [
    {
     "data": {
      "text/plain": [
       "array([[1, 0],\n",
       "       [0, 2]])"
      ]
     },
     "execution_count": 6,
     "metadata": {},
     "output_type": "execute_result"
    }
   ],
   "source": [
    "A = np.array([[1,0],[0,2]])\n",
    "A"
   ]
  },
  {
   "cell_type": "code",
   "execution_count": 8,
   "metadata": {},
   "outputs": [
    {
     "data": {
      "text/plain": [
       "array([[  6,   2],\n",
       "       [-10,  -3]])"
      ]
     },
     "execution_count": 8,
     "metadata": {},
     "output_type": "execute_result"
    }
   ],
   "source": [
    "A_new = 1 * E1.T.dot(A).dot(E)\n",
    "A_new"
   ]
  },
  {
   "cell_type": "markdown",
   "metadata": {},
   "source": [
    "## 2. Начала математического анализа"
   ]
  },
  {
   "cell_type": "markdown",
   "metadata": {},
   "source": [
    "1. Найти матрицу Гессе следующей функции:\n",
    "$$\n",
    "    f(x,y) = x^3 - 2xy + y^2 - 3x - 2y.\n",
    "$$\n",
    "\n",
    "    Доп.задание (явно в курсе не обсуждалось): найдите точки локального экстремума функции $f$."
   ]
  },
  {
   "cell_type": "markdown",
   "metadata": {},
   "source": [
    "$\n",
    " \\frac{\\partial f(x)}{\\partial x} = 3x^2 - 2y + 0 - 3 - 0 = 3x^2 - 2y - 3.\n",
    "$\n",
    "\n",
    "$\n",
    " \\frac{\\partial f(y)}{\\partial y} = 0 - 2x + 2y + 0 - 0 - 2 = 2y - 2x - 2.\n",
    "$\n",
    "\n",
    "Решим систему:\n",
    "\n",
    "$\n",
    "\\begin{cases}\n",
    "3x^2 - 2y - 3 = 0 \\\\\n",
    "2y - 2x - 2 = 0   \n",
    "\\end{cases}.\n",
    "$\n",
    "\n",
    "$\n",
    "след.   y = x + 1\n",
    "$\n",
    "\n",
    "$\n",
    "3x^2 - 2(x + 1) - 3 = 0\n",
    "$\n",
    "\n",
    "$\n",
    "3x^2 - 2x - 5 = 0\n",
    "$\n",
    "\n",
    "$\n",
    "x1 = 5/3 , x2 = -1\n",
    "$\n",
    "\n",
    "$\n",
    "y1 = 8/3, y2 = 0\n",
    "$\n",
    "\n",
    "$\n",
    "M1 (-1, 0) , M2 (5/3, 8/3)\n",
    "$\n",
    "\n",
    "$\n",
    " \\frac{\\partial^2 f(x)}{\\partial x^2} = 6x\n",
    "$\n",
    "\n",
    "$\n",
    " \\frac{\\partial^2 f(x)}{\\partial y^2} = -2\n",
    "$\n",
    "\n",
    "$\n",
    " \\frac{\\partial^2 f(y)}{\\partial x^2} = -2\n",
    "$\n",
    "\n",
    "$\n",
    " \\frac{\\partial^2 f(y)}{\\partial y^2} = 2\n",
    "$\n",
    "\n",
    "$ H1 \\begin{pmatrix} -6 & -2 \\\\ −2 & 2\\end{pmatrix}\n",
    "H2 \\begin{pmatrix} 10 & -2 \\\\ −2 & 2\\end{pmatrix}\n",
    "$\n",
    " \n",
    "$для \\ H1:\n",
    "D1 = a11 < 0, D2 = |-6 * 2 - 4| = - 16 < 0 \n",
    "$\n",
    "\n",
    "$ для \\ H2:\n",
    "D1 = a11 > 0, D2 = |10 * 2 - 4| =  16 > 0\n",
    "$\n",
    "\n",
    "$\n",
    "Функция \\ имеет \\ локальный \\ минимум \\ в \\ точке \\ M2 \\ (5/3, 8/3)\n",
    "$"
   ]
  },
  {
   "cell_type": "code",
   "execution_count": 9,
   "metadata": {},
   "outputs": [],
   "source": [
    "from sympy import *"
   ]
  },
  {
   "cell_type": "code",
   "execution_count": 10,
   "metadata": {},
   "outputs": [],
   "source": [
    "x = Symbol('x')\n",
    "y = Symbol('y')"
   ]
  },
  {
   "cell_type": "code",
   "execution_count": 14,
   "metadata": {},
   "outputs": [],
   "source": [
    "f = x**3-2*x*y+y**2-3*x-2*y"
   ]
  },
  {
   "cell_type": "code",
   "execution_count": 15,
   "metadata": {},
   "outputs": [
    {
     "data": {
      "text/latex": [
       "$\\displaystyle 3 x^{2} - 2 y - 3$"
      ],
      "text/plain": [
       "3*x**2 - 2*y - 3"
      ]
     },
     "execution_count": 15,
     "metadata": {},
     "output_type": "execute_result"
    }
   ],
   "source": [
    "derivative_f = f.diff(x)\n",
    "derivative_f"
   ]
  },
  {
   "cell_type": "code",
   "execution_count": 16,
   "metadata": {},
   "outputs": [
    {
     "data": {
      "text/latex": [
       "$\\displaystyle - 2 x + 2 y - 2$"
      ],
      "text/plain": [
       "-2*x + 2*y - 2"
      ]
     },
     "execution_count": 16,
     "metadata": {},
     "output_type": "execute_result"
    }
   ],
   "source": [
    "derivative_f = f.diff(y)\n",
    "derivative_f"
   ]
  },
  {
   "cell_type": "code",
   "execution_count": null,
   "metadata": {},
   "outputs": [],
   "source": []
  },
  {
   "cell_type": "markdown",
   "metadata": {},
   "source": [
    "2. Проверьте, что функция $f = \\ln(\\sqrt{x} + \\sqrt{y})$ удовлетворяет уравнению:\n",
    "\n",
    "$$\n",
    "x \\frac{\\partial f}{\\partial x} + y \\frac{\\partial f}{\\partial y} = \\frac{1}{2}.\n",
    "$$"
   ]
  },
  {
   "cell_type": "markdown",
   "metadata": {},
   "source": [
    "$\n",
    "\\frac{\\partial f}{\\partial x} = \\frac{1}{2\\sqrt{x}\\sqrt{y} + 2x}\n",
    "$\n",
    "\n",
    "$\n",
    "\\frac{\\partial f}{\\partial y} = \\frac{1}{2\\sqrt{x}\\sqrt{y} + 2y}\n",
    "$\n",
    "\n",
    "$Подставляем \\ в \\ уравнение\n",
    "$\n",
    "\n",
    "$\n",
    "x \\frac{1}{2\\sqrt{x}\\sqrt{y} + 2x} + y \\frac{1}{2\\sqrt{x}\\sqrt{y} + 2y} = \\frac{1}{2}.\n",
    "$\n",
    "\n",
    "$\n",
    "2y(2\\sqrt{x}\\sqrt{y} + 2x) + 2x(2\\sqrt{x}\\sqrt{y} + 2y) = (2\\sqrt{x}\\sqrt{y} + 2x) (2\\sqrt{x}\\sqrt{y} + 2y)\n",
    "$\n",
    "\n",
    "$\n",
    "4y\\sqrt{x}\\sqrt{y} + 4x\\sqrt{x}\\sqrt{y} + 8xy = 4y\\sqrt{x}\\sqrt{y} + 4x\\sqrt{x}\\sqrt{y} + 8xy\n",
    "$\n",
    "\n",
    "$\n",
    "0 = 0\n",
    "$\n",
    "\n",
    "$\n",
    "Данная \\ функция \\ удовлетворяет \\ данному \\ уравнению.\n",
    "$"
   ]
  },
  {
   "cell_type": "code",
   "execution_count": null,
   "metadata": {},
   "outputs": [],
   "source": []
  },
  {
   "cell_type": "markdown",
   "metadata": {},
   "source": [
    "3. Используя правило для вычисления производной сложной функции, найдите полный дифференциал $\\frac{df}{dt}$, если $$f = e^{xy}\\ln(x+y), \\quad x = 2t^2, \\quad y = 1 - 2t^2 .$$"
   ]
  },
  {
   "cell_type": "markdown",
   "metadata": {},
   "source": [
    "$\\frac{df}{dt}=\\frac{df}{dx}\\frac{dx}{dt} + \\frac{df}{dy}\\frac{dy}{dt}$, \n",
    "\n",
    "$\\frac{df}{dx}=\\frac{e^{xy}xy\\ln(x+y)+ e^{xy}y^2\\ln(x+y)+ e^{xy}}{x+y}\n",
    "$\n",
    "\n",
    "$\\frac{dx}{dt}=4t\n",
    "$\n",
    "\n",
    "$\\frac{df}{dy}=\\frac{e^{xy}xy\\ln(x+y)+ e^{xy}x^2\\ln(x+y)+ e^{xy}}{x+y}\n",
    "$\n",
    "\n",
    "$\\frac{dy}{dt}=-4t\n",
    "$\n",
    "\n",
    "$Подставляем:\n",
    "$\n",
    "\n",
    "$\n",
    "\\frac{df}{dt}= \\frac{e^{xy}xy\\ln(x+y)+ e^{xy}y^2\\ln(x+y)+ e^{xy}}{x+y}\\ 4t - \\frac{e^{xy}xy\\ln(x+y)+ e^{xy}x^2\\ln(x+y)+ e^{xy}}{x+y}\\ 4t = 4t\\ e^{xy}\\ln(x+y)\\frac{y^2-x^2}{x+y}\n",
    "$\n",
    "\n"
   ]
  },
  {
   "cell_type": "code",
   "execution_count": 39,
   "metadata": {},
   "outputs": [],
   "source": [
    "x = Symbol('x')\n",
    "y = Symbol('y')"
   ]
  },
  {
   "cell_type": "code",
   "execution_count": null,
   "metadata": {},
   "outputs": [],
   "source": [
    "derivative_f = f.diff(x)\n",
    "derivative_f"
   ]
  },
  {
   "cell_type": "code",
   "execution_count": null,
   "metadata": {},
   "outputs": [],
   "source": []
  },
  {
   "cell_type": "markdown",
   "metadata": {},
   "source": [
    "4. Предположим, задана функция $f: \\mathbb{R}^3 \\rightarrow \\mathbb{R}^2$\n",
    "\n",
    "$$\n",
    "    f(x,y,z) = (x+y+z, xyz).\n",
    "$$\n",
    "\n",
    "   Найдите матрицу Якоби функции $f$, и её численное значение в точке $v = (1, 2, 3)$."
   ]
  },
  {
   "cell_type": "markdown",
   "metadata": {},
   "source": [
    "$J = \\begin{pmatrix} \\frac{\\partial f1}{\\partial x} & \\frac{\\partial f1}{\\partial y} &  \\frac{\\partial f1}{\\partial z} \\\\  \\frac{\\partial f3}{\\partial x} & \\frac{\\partial f2}{\\partial y} &  \\frac{\\partial f2}{\\partial z} \\end{pmatrix} = \\begin{pmatrix} \\ {1}&{1}&{1} \\\\ {yz}&{xz}&{xy}\\end{pmatrix} = \\begin{pmatrix} \\ {1}&{1}&{1} \\\\ {6}&{3}&{2}\\end{pmatrix}$"
   ]
  },
  {
   "cell_type": "code",
   "execution_count": null,
   "metadata": {},
   "outputs": [],
   "source": []
  }
 ],
 "metadata": {
  "kernelspec": {
   "display_name": "Python 3 (ipykernel)",
   "language": "python",
   "name": "python3"
  },
  "language_info": {
   "codemirror_mode": {
    "name": "ipython",
    "version": 3
   },
   "file_extension": ".py",
   "mimetype": "text/x-python",
   "name": "python",
   "nbconvert_exporter": "python",
   "pygments_lexer": "ipython3",
   "version": "3.9.13"
  }
 },
 "nbformat": 4,
 "nbformat_minor": 2
}
